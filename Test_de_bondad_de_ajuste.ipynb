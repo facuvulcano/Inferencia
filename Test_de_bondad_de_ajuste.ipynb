{
 "cells": [
  {
   "attachments": {
    "image.png": {
     "image/png": "[encoded data removed]"
    }
   },
   "cell_type": "markdown",
   "metadata": {},
   "source": [
    "El test de bondad de ajuste es una tecnica estadistica que se utiliza para determinar si un conjunto de datos observados se ajusta a una distribucion teorica especifica. Es ampliamente utilizado en diversas areas como la investigacion cientifica, la ingenieria, y los negocios para validar suposiciones o modelos estadisticos sobre la distribucion de los datos subyacentes.\n",
    "\n",
    "Tipos de Test de Bondad de Ajuste:\n",
    "\n",
    "1- Chi-Cuadrado (X^2): Es uno de los tests mas comunes para realizar analisis de bondad de ajuste, especialmente util para datos categoricos. Compara las frecuencias observadas con las frecuencias esperadas bajo una hipotesis nula especifica.\n",
    "\n",
    "2- Kolmogorov-Smirnov: Es un test no parametrico que se utiliza para comparar una muestra con una distribucion continua. Es particularmente util para comparar la distribucion acumulativa de una muestra con una distribucion teorica.\n",
    "\n",
    "Procedimiento general:\n",
    "\n",
    "El procedimiento general para realizar un test de bondad de ajuste incluye los siguientes pasos:\n",
    "\n",
    "1- Definir hipotesis Nula y Alternativa:\n",
    "\n",
    "- Hipotesis Nula (H0): No hay diferencia significativa entre las distribuciones observadas y esperadas, es decir, los datos siguen la distribucion especificada.\n",
    "- Hipotesis Alternativa (H1): Hay una diferencia significativa entre las distribucioens observadas y esperadas, es decir, los datos no siguen la distribucion especificada.\n",
    "\n",
    "2- Calcular estadisticas de prueba: Dependiendo del test elegido, calculas una estadistica que mide la diferencia entre las frecuencais observadas y esperadas. Por ejemplo, en el test de Chi-cuadrado, la estadistica se calcula como:\n",
    "\n",
    "![image.png](attachment:image.png)\n",
    "\n",
    "donde Oi son las frecuencias observadas y Ei son las frecuencias esperadas.\n",
    "\n",
    "3- Determinar el valor P: el valor p es la probabilidad de observar una estadistica de prueba al menos tan extrema como la que fue observada, bajo la supoiscion de que la hipotesis nuna es cierta. Si el valor p es bajo (generalmente menos de 5%, o p < 0.05), se rechaza la hipotesis nula.\n",
    "\n",
    "4- Tomar decisiones: Basado en el valor p y la significancia estadisitca deseada, decides aceptar o rechazar la hipotesis nula.\n",
    "\n"
   ]
  },
  {
   "attachments": {
    "image.png": {
     "image/png": "[encoded data removed]"
    }
   },
   "cell_type": "markdown",
   "metadata": {},
   "source": [
    "Supongamos que queremos verificar si los datos de un juego son justos (todos los resultados del 1 al 6 son igualmente probables). Aqui hay un ejemplo de como se podria realizar un test de Chi-cuadrado para esta situacion\n",
    "\n",
    "1- Definir las categorias y las frecuencias esperadas:\n",
    "\n",
    "- Primero, se necesita definir las categorias en las que se clasificaran los datos. Por ejemplo, si se esta analizando los resultados de lanzar un dado, las categorias serian los numeros 1, 2, 3, 4, 5 y 6.\n",
    "\n",
    "- Luego, se determina la frecuencias esperada para cada categoria. Si el dado es justo, se esperaria que cada numero salga aproximadamente la misma cantidad de veces, es decir, 1/6 del total de lanzamientos para cada numero si lanzas el dado muchas veces.\n",
    "\n",
    "2- Recopilar los datos (frecuencias observadas):\n",
    "\n",
    "- Recopilas los datos observando o experimentando. En el caso del dado, esto significaria lanzar el dado un numero especifico de veces y registrar cuantas veces aparece cada numero.\n",
    "\n",
    "3- Calcular el estadistico Chi-Cuadrado:\n",
    "\n",
    "- El estadistico Chi-Cuadrado se calcula usando la siguiente formula:\n",
    "\n",
    "![image.png](attachment:image.png)\n",
    "\n",
    "- Donde Oi es la frecuencia observada para cada categoria, Ei es la frecuencia esperada, y la suma se realiza sobre todas las categorias.\n",
    "- Este estadistico mide la discrepancia entre las frecuencias observadas y las esperadas. Cuanto mayor sea el valor del estadistico, mayor sera la evidencia de que las frecuencias observadas difieren de las esperadas.\n",
    "\n",
    "4- Comparar con la distribucion Chi-Cuadrado:\n",
    "\n",
    "- El valor calculado del estadistico se compara con un valor critico de la distribucion Chi-Cuadrado, que depende del nivel de significancia que se elija (comunmente 0.05 para una confianza del 95%) y los grados de libertad, que en el caso de bondad de ajuste son numeros de categorias - 1.\n",
    "\n",
    "- Si el valor del estadistico calculado es mayor que el valor critico, se rechaza la hipotesis nula de que no hay diferencia significativa entre las observadas y las esperadas, lo que suigere que los datos no se ajustan a la distribucion esperada."
   ]
  },
  {
   "cell_type": "code",
   "execution_count": 11,
   "metadata": {},
   "outputs": [
    {
     "name": "stdout",
     "output_type": "stream",
     "text": [
      "Valor del estadistico chi-cuadrado: 14.267605633802816\n",
      "Valor critico para un nivel de significancia de 0.05: 11.070497693516351\n",
      "Datos no se ajustan a la distribucion esperada\n"
     ]
    }
   ],
   "source": [
    "import numpy as np\n",
    "from scipy.stats import chi2\n",
    "\n",
    "categorias = [1, 2, 3, 4, 5, 6]\n",
    "\n",
    "# Frecuencias observadas de lanzamientos de dados (supongamos 100 lanzamientos)\n",
    "observados = np.array([10, 10, 12, 3, 20, 16])\n",
    "# Frecuencias esperadas para un dado justo (todos los resultados son igualmente probables)\n",
    "frecuencias_esperadas = np.full(len(categorias), sum(observados) / len(categorias))\n",
    "\n",
    "\n",
    "estadistico = np.sum((observados - frecuencias_esperadas)**2 / frecuencias_esperadas)\n",
    "\n",
    "print(f'Valor del estadistico chi-cuadrado: {estadistico}')\n",
    "\n",
    "grados_libertad = len(categorias) - 1\n",
    "valor_critico = chi2.ppf(1 - 0.05, grados_libertad)\n",
    "\n",
    "print(f'Valor critico para un nivel de significancia de 0.05: {valor_critico}')\n",
    "\n",
    "\n",
    "if estadistico > valor_critico:\n",
    "    print(\"Datos no se ajustan a la distribucion esperada\")\n",
    "else:\n",
    "    print(\"Datos se ajustan a la distribucion esperada\")\n"
   ]
  },
  {
   "cell_type": "markdown",
   "metadata": {},
   "source": [
    "En un test Chi-Cuadrado de bondad de ajuste, la distribucion esperada se determina a partir de las frecuencias esperadas que definimos basandose en alguna hipotesis o modelo teorico. Es decir, definis lo que esperarias ver si tus datos siguieran una distribucion ideal o teorica especifica\n",
    "\n",
    "Determinando la distribucion esperada\n",
    "\n",
    "1- Hipotesis sobre la distribucion\n",
    "\n",
    "- Primero, se debe tener una hipotesis o modelo sobre como deberian distribuirse los datos en condiciones ideales o normales. Por ejemplo, si se esta tirando un dado justo, la hipotesis seria que cada numero tiene la misma probabilidad de salir, es decir, 1/6 para cada cara del dado.\n",
    "\n",
    "2- Calculo de frecuencias esperadas:\n",
    "\n",
    "- Las frecuencias esperadas se calculan en funcion del total de observaciones y la distribucion teoria. En el caso del dado, si lanzas el dado 60 veces, esperarias que cada numero salga 1/6 de 60, lo cual es 10 veces por numero.\n",
    "\n",
    "- La formula seria: Frecuencia esperada = total de observaciones / numero de categorias. Si todas las categorias son igualmente probables.\n",
    "\n",
    "3- Implementacion en el Test:\n",
    "\n",
    "- Cuando se realiza el test chi-cuadrado, comparas las frecuencias observadas (lo que realmnete ocurrio en los datos) con estas frecuencias esperads oara evaluar si los datos se desvian significativamente de lo que la teoria predice.\n",
    "\n",
    "Implementacion en IA\n",
    "\n",
    "1- Validacion de datos\n",
    "\n",
    "Antes de entrenar modelos de IA especialmente en aprendizaje automatico y aprendizaje profundo, es crucial validar que los datos no estan sesgados o distorcionados de maneras que podrian afectar negativamente el aprendizaje. El test Chi-Cuadrado puede ser utilizado para asegurar que las caracteristicas categoricas en un conjunto de datos esten distribuidas uniformemente o segun se espra.\n",
    "\n",
    "2- Feature Engineering\n",
    "\n",
    "En el proceso de creacion de caracteristicas (feature engineering), el test Chi-Cuadrado puede ayudar a identificar que variables categoricas son relevantes para predecir una variable objetivo. Esto es comun en la seleccion de caracteristicas, donde se desea reducir la dimensionalidad del dataset conservando solo las variables mas significativas.\n",
    "\n",
    "3- Analasis de Sesgos\n",
    "\n",
    "El test Chi-Cuadrado puede ser utilziado para detectar sesgos en los datos, lo cual es especialmente importante en aplicaciones de IA que involucran interaccion humana, como sistemas de recomendacion, motores de busqueda y reconocimiento facial. Asegurar que los sistemas de IA no perpetuen ni excarveben sesgos existentes en los datos es crucial para desarrollar tecnologias justas y eticas.\n",
    "\n",
    "4- Validacion de modelos generativos\n",
    "\n",
    "En modelos generativos, como los que se utlizan en procesamiento de lenguaje natural o generacion de imagenes, el test Chi-Cuadrado puede comparar la distribucion de las etiquetas generadas por el modelo contra las distribuciones esperadas para evaluar si el modelo esta aprendiendo a reproducir fielmente las caracteristicas del conjunto de datos original.\n",
    "\n",
    "5- Evaluacion post-modelado\n",
    "\n",
    "Despues de entrenar un modelo, es util veirifcar si las predicciones del modelo se distribuyen de manera esperada en diferentes subconjuntos del conjunto de datos. El test Chi-Cuadrado puede ser utilziado para evaluar si las predicciones se desvian de lo que se consideraria un comportamiento normal bajo la hipotesis nula."
   ]
  },
  {
   "cell_type": "markdown",
   "metadata": {},
   "source": [
    "Ejemplo de como utilizar el test Chi-Cuadrado para seleccionar caracteristicas en un modelo de clasificacion"
   ]
  },
  {
   "cell_type": "code",
   "execution_count": 12,
   "metadata": {},
   "outputs": [
    {
     "ename": "ModuleNotFoundError",
     "evalue": "No module named 'sklearn'",
     "output_type": "error",
     "traceback": [
      "\u001b[1;31m---------------------------------------------------------------------------\u001b[0m",
      "\u001b[1;31mModuleNotFoundError\u001b[0m                       Traceback (most recent call last)",
      "\u001b[1;32mc:\\Users\\Facu\\Inferencia\\Test_de_bondad_de_ajuste.ipynb Cell 6\u001b[0m in \u001b[0;36m<cell line: 1>\u001b[1;34m()\u001b[0m\n\u001b[1;32m----> <a href='vscode-notebook-cell:/c%3A/Users/Facu/Inferencia/Test_de_bondad_de_ajuste.ipynb#X12sZmlsZQ%3D%3D?line=0'>1</a>\u001b[0m \u001b[39mfrom\u001b[39;00m \u001b[39msklearn\u001b[39;00m\u001b[39m.\u001b[39;00m\u001b[39mfeature_selection\u001b[39;00m \u001b[39mimport\u001b[39;00m SelectKBest\n\u001b[0;32m      <a href='vscode-notebook-cell:/c%3A/Users/Facu/Inferencia/Test_de_bondad_de_ajuste.ipynb#X12sZmlsZQ%3D%3D?line=1'>2</a>\u001b[0m \u001b[39mfrom\u001b[39;00m \u001b[39msklearn\u001b[39;00m\u001b[39m.\u001b[39;00m\u001b[39mfeature_selection\u001b[39;00m \u001b[39mimport\u001b[39;00m chi2\n\u001b[0;32m      <a href='vscode-notebook-cell:/c%3A/Users/Facu/Inferencia/Test_de_bondad_de_ajuste.ipynb#X12sZmlsZQ%3D%3D?line=2'>3</a>\u001b[0m \u001b[39mfrom\u001b[39;00m \u001b[39msklearn\u001b[39;00m\u001b[39m.\u001b[39;00m\u001b[39mdatasets\u001b[39;00m \u001b[39mimport\u001b[39;00m load_iris\n",
      "\u001b[1;31mModuleNotFoundError\u001b[0m: No module named 'sklearn'"
     ]
    }
   ],
   "source": [
    "from sklearn.feature_selection import SelectKBest\n",
    "from sklearn.feature_selection import chi2\n",
    "from sklearn.datasets import load_iris\n",
    "\n",
    "# Cargar datos\n",
    "data = load_iris()\n",
    "X, y = data.data, data.target\n",
    "\n",
    "# Aplicar el test Chi-Cuadrado para seleccionar las 2 mejores características\n",
    "chi_selector = SelectKBest(chi2, k=2)\n",
    "X_kbest = chi_selector.fit_transform(X, y)\n",
    "\n",
    "print(\"Características seleccionadas:\", chi_selector.get_support())\n"
   ]
  }
 ],
 "metadata": {
  "kernelspec": {
   "display_name": "Python 3",
   "language": "python",
   "name": "python3"
  },
  "language_info": {
   "codemirror_mode": {
    "name": "ipython",
    "version": 3
   },
   "file_extension": ".py",
   "mimetype": "text/x-python",
   "name": "python",
   "nbconvert_exporter": "python",
   "pygments_lexer": "ipython3",
   "version": "3.9.9"
  },
  "orig_nbformat": 4
 },
 "nbformat": 4,
 "nbformat_minor": 2
}
